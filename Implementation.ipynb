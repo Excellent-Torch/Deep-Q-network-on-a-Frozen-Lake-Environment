{
 "cells": [
  {
   "cell_type": "markdown",
   "metadata": {},
   "source": [
    "Importing the necessary libraries"
   ]
  },
  {
   "cell_type": "code",
   "execution_count": 51,
   "metadata": {},
   "outputs": [],
   "source": [
    "import os\n",
    "import numpy as np\n",
    "import random\n",
    "import matplotlib.pyplot as plt\n",
    "import matplotlib\n",
    "\n",
    "#import warnings\n",
    "#warnings.filterwarnings(\"ignore\")\n",
    "\n",
    "import gym\n",
    "import tensorflow as tf\n",
    "from keras.optimizers import Adam\n",
    "from keras.layers import Dense\n",
    "from keras.models import Sequential\n",
    "from collections import deque"
   ]
  },
  {
   "cell_type": "markdown",
   "metadata": {},
   "source": [
    "Creating a custom map of 4x4,\n",
    "\n",
    "S: starting point (SAFE)\n",
    "\n",
    "F: frozen surface (SAFE)\n",
    "\n",
    "H: Hole in the surface (DEATH)\n",
    "\n",
    "G: Goal, where the frisbee is located (SAFE)\n"
   ]
  },
  {
   "cell_type": "code",
   "execution_count": 52,
   "metadata": {},
   "outputs": [],
   "source": [
    "custom_map = [\n",
    "    'SFFF',\n",
    "    'FHFH',\n",
    "    'FFFH',\n",
    "    'HFFG'\n",
    "]"
   ]
  },
  {
   "cell_type": "markdown",
   "metadata": {},
   "source": [
    "Defining the environemnt along with the training parameters. (Made slippery to False due to ease of implementation)"
   ]
  },
  {
   "cell_type": "code",
   "execution_count": 53,
   "metadata": {},
   "outputs": [],
   "source": [
    "env = gym.make(\"FrozenLake-v1\", desc=custom_map, is_slippery=False)\n",
    "\n",
    "train_episodes=4000\n",
    "test_episodes=100\n",
    "max_steps=300\n",
    "\n",
    "state_size = env.observation_space.n # 16 (According to the 4x4 Map)\n",
    "action_size = env.action_space.n # 4 (According to the 4x4 Map)\n",
    "\n",
    "batch_size=32\n",
    "learning_rate=0.001"
   ]
  },
  {
   "cell_type": "code",
   "execution_count": 54,
   "metadata": {},
   "outputs": [],
   "source": [
    "class Agent:\n",
    "    def __init__(self, state_size, action_size, learning_rate):\n",
    "        self.memory = deque(maxlen=2500)\n",
    "        self.learning_rate=learning_rate\n",
    "        self.epsilon=1\n",
    "        self.max_eps=1\n",
    "        self.min_eps=0.01\n",
    "        self.eps_decay = 0.001/3\n",
    "        self.gamma=0.9\n",
    "        self.state_size= state_size\n",
    "        self.action_size= action_size\n",
    "        self.epsilon_lst=[]\n",
    "        self.model = self.buildmodel()\n",
    "\n",
    "    def buildmodel(self):\n",
    "        model=Sequential()\n",
    "        model.add(Dense(10, input_dim=self.state_size, activation='relu'))\n",
    "        model.add(Dense(self.action_size, activation='linear'))\n",
    "        model.compile(loss='mse', optimizer=Adam(learning_rate=self.learning_rate))\n",
    "        return model\n",
    "\n",
    "    def add_memory(self, new_state, reward, done, state, action):\n",
    "        self.memory.append((new_state, reward, done, state, action))\n",
    "\n",
    "    def action(self, state):\n",
    "        if np.random.rand() > self.epsilon:\n",
    "            return np.random.randint(0,4)\n",
    "        return np.argmax(self.model.predict(state))\n",
    "\n",
    "    def pred(self, state):\n",
    "        return np.argmax(self.model.predict(state))\n",
    "\n",
    "    def replay(self,batch_size):\n",
    "        minibatch=random.sample(self.memory, batch_size)\n",
    "        for new_state, reward, done, state, action in minibatch:\n",
    "            target= reward\n",
    "            if not done:\n",
    "                target=reward + self.gamma* np.amax(self.model.predict(new_state))\n",
    "            target_f= self.model.predict(state)\n",
    "            target_f[0][action]= target\n",
    "            self.model.fit(state, target_f, epochs=1, verbose=0)\n",
    "\n",
    "        if self.epsilon > self.min_eps:\n",
    "            self.epsilon=(self.max_eps - self.min_eps) * np.exp(-self.eps_decay*episode) + self.min_eps\n",
    "\n",
    "        self.epsilon_lst.append(self.epsilon)\n",
    "\n",
    "    def load(self, name):\n",
    "        self.model.load_weights(name)\n",
    "\n",
    "    def save(self, name):\n",
    "        self.model.save_weights(name)\n"
   ]
  },
  {
   "cell_type": "code",
   "execution_count": 55,
   "metadata": {},
   "outputs": [],
   "source": [
    "agent=Agent(state_size, action_size, learning_rate)"
   ]
  },
  {
   "cell_type": "code",
   "execution_count": 56,
   "metadata": {},
   "outputs": [
    {
     "name": "stdout",
     "output_type": "stream",
     "text": [
      "1/1 [==============================] - 0s 59ms/step\n"
     ]
    },
    {
     "ename": "ValueError",
     "evalue": "too many values to unpack (expected 4)",
     "output_type": "error",
     "traceback": [
      "\u001b[1;31m---------------------------------------------------------------------------\u001b[0m",
      "\u001b[1;31mValueError\u001b[0m                                Traceback (most recent call last)",
      "Cell \u001b[1;32mIn[56], line 12\u001b[0m\n\u001b[0;32m      9\u001b[0m \u001b[38;5;28;01mfor\u001b[39;00m t \u001b[38;5;129;01min\u001b[39;00m \u001b[38;5;28mrange\u001b[39m(max_steps):\n\u001b[0;32m     10\u001b[0m     \u001b[38;5;66;03m# env.render()\u001b[39;00m\n\u001b[0;32m     11\u001b[0m     action \u001b[38;5;241m=\u001b[39m agent\u001b[38;5;241m.\u001b[39maction(state)\n\u001b[1;32m---> 12\u001b[0m     new_state, reward, done, info \u001b[38;5;241m=\u001b[39m env\u001b[38;5;241m.\u001b[39mstep(action)\n\u001b[0;32m     13\u001b[0m     new_state_arr \u001b[38;5;241m=\u001b[39m np\u001b[38;5;241m.\u001b[39mzeros(state_size)\n\u001b[0;32m     14\u001b[0m     new_state_arr[new_state] \u001b[38;5;241m=\u001b[39m \u001b[38;5;241m1\u001b[39m\n",
      "\u001b[1;31mValueError\u001b[0m: too many values to unpack (expected 4)"
     ]
    }
   ],
   "source": [
    "reward_lst=[]\n",
    "for episode in range(train_episodes):\n",
    "    state= env.reset()[0]\n",
    "    state_arr=np.zeros(state_size)\n",
    "    state_arr[state] = 1\n",
    "    state= np.reshape(state_arr, [1, state_size])\n",
    "    reward = 0\n",
    "    done = False\n",
    "    for t in range(max_steps):\n",
    "        # env.render()\n",
    "        action = agent.action(state)\n",
    "        new_state, reward, done, info = env.step(action)\n",
    "        new_state_arr = np.zeros(state_size)\n",
    "        new_state_arr[new_state] = 1\n",
    "        new_state = np.reshape(new_state_arr, [1, state_size])\n",
    "        agent.add_memory(new_state, reward, done, state, action)\n",
    "        state= new_state\n",
    "\n",
    "        if done:\n",
    "            print(f'Episode: {episode:4}/{train_episodes} and step: {t:4}. Eps: {float(agent.epsilon):.2}, reward {reward}')\n",
    "            break\n",
    "\n",
    "    reward_lst.append(reward)\n",
    "\n",
    "    if len(agent.memory)> batch_size:\n",
    "        agent.replay(batch_size)\n",
    "\n",
    "print(' Train mean % score= ', round(100*np.mean(reward_lst),1))"
   ]
  }
 ],
 "metadata": {
  "kernelspec": {
   "display_name": "RVC",
   "language": "python",
   "name": "python3"
  },
  "language_info": {
   "codemirror_mode": {
    "name": "ipython",
    "version": 3
   },
   "file_extension": ".py",
   "mimetype": "text/x-python",
   "name": "python",
   "nbconvert_exporter": "python",
   "pygments_lexer": "ipython3",
   "version": "3.8.17"
  }
 },
 "nbformat": 4,
 "nbformat_minor": 2
}
