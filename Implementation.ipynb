{
 "cells": [
  {
   "cell_type": "markdown",
   "metadata": {},
   "source": [
    "Importing the necessary libraries"
   ]
  },
  {
   "cell_type": "code",
   "execution_count": null,
   "metadata": {},
   "outputs": [],
   "source": [
    "import os\n",
    "import numpy as np\n",
    "import random\n",
    "import matplotlib.pyplot as plt\n",
    "import matplotlib\n",
    "\n",
    "#import warnings\n",
    "#warnings.filterwarnings(\"ignore\")\n",
    "\n",
    "import gym\n",
    "import tensorflow as tf\n",
    "from keras.optimizers import Adam\n",
    "from keras.layers import Dense\n",
    "from keras.models import Sequential\n",
    "from collections import deque"
   ]
  },
  {
   "cell_type": "markdown",
   "metadata": {},
   "source": [
    "Creating a custom map of 4x4,\n",
    "\n",
    "S: starting point (SAFE)\n",
    "\n",
    "F: frozen surface (SAFE)\n",
    "\n",
    "H: Hole in the surface (DEATH)\n",
    "\n",
    "G: Goal, where the frisbee is located (SAFE)\n"
   ]
  },
  {
   "cell_type": "code",
   "execution_count": null,
   "metadata": {},
   "outputs": [],
   "source": [
    "custom_map = [\n",
    "    \"SFFF\",\n",
    "    \"FHFH\",\n",
    "    \"FFFH\",\n",
    "    \"HFFG\"\n",
    "]"
   ]
  },
  {
   "cell_type": "markdown",
   "metadata": {},
   "source": [
    "Defining the environemnt along with the training parameters. (Made slippery to False due to ease of implementation)"
   ]
  },
  {
   "cell_type": "code",
   "execution_count": null,
   "metadata": {},
   "outputs": [],
   "source": [
    "env = gym.make(\"FrozenLake-v1\", desc=custom_map, render_mode=\"human\", is_slippery=False)\n",
    "\n",
    "train_episodes=100\n",
    "test_episodes=10\n",
    "max_steps=300\n",
    "\n",
    "state_size = env.observation_space.n # 16 (According to the 4x4 Map)\n",
    "action_size = env.action_space.n # 4 (According to the 4x4 Map)\n",
    "\n",
    "batch_size=32"
   ]
  },
  {
   "cell_type": "markdown",
   "metadata": {},
   "source": [
    "Making a simple model for prediction"
   ]
  },
  {
   "cell_type": "code",
   "execution_count": null,
   "metadata": {},
   "outputs": [],
   "source": [
    "class Agent:\n",
    "    def __init__(self, state_size, action_size):\n",
    "        self.memory = deque(maxlen=2500)\n",
    "        self.learning_rate=0.001\n",
    "        self.epsilon=1\n",
    "        self.max_eps=1\n",
    "        self.min_eps=0.01\n",
    "        self.eps_decay = 0.001/3\n",
    "        self.gamma=0.9\n",
    "        self.state_size= state_size\n",
    "        self.action_size= action_size\n",
    "        self.epsilon_lst=[]\n",
    "        self.model = self.buildmodel()\n",
    "\n",
    "    def buildmodel(self):\n",
    "        model=Sequential()\n",
    "        model.add(Dense(10, input_dim=self.state_size, activation='relu'))\n",
    "        model.add(Dense(self.action_size, activation='linear'))\n",
    "        model.compile(loss='mse', optimizer=Adam(learning_rate=self.learning_rate))\n",
    "        return model\n",
    "\n",
    "    def add_memory(self, new_state, reward, done, state, action):\n",
    "        self.memory.append((new_state, reward, done, state, action))\n",
    "\n",
    "    def action(self, state):\n",
    "        if np.random.rand() > self.epsilon:\n",
    "            return np.random.randint(0,4)\n",
    "        return np.argmax(self.model.predict(state))\n",
    "\n",
    "    def pred(self, state):\n",
    "        return np.argmax(self.model.predict(state))\n",
    "\n",
    "    def replay(self,batch_size):\n",
    "        minibatch=random.sample(self.memory, batch_size)\n",
    "        for new_state, reward, done, state, action in minibatch:\n",
    "            target= reward\n",
    "            if not done:\n",
    "                target=reward + self.gamma* np.amax(self.model.predict(new_state))\n",
    "            target_f= self.model.predict(state)\n",
    "            print(target_f)\n",
    "            print(action)\n",
    "            print(target_f[0])\n",
    "            target_f[0][action[0]]= target\n",
    "           \n",
    "            \n",
    "            self.model.fit(state, target_f, epochs=1, verbose=0)\n",
    "\n",
    "        if self.epsilon > self.min_eps:\n",
    "            self.epsilon=(self.max_eps - self.min_eps) * np.exp(-self.eps_decay*episode) + self.min_eps\n",
    "\n",
    "        self.epsilon_lst.append(self.epsilon)\n",
    "\n",
    "    def load(self, name):\n",
    "        self.model.load_weights(name)\n",
    "\n",
    "    def save(self, name):\n",
    "        self.model.save_weights(name)\n"
   ]
  },
  {
   "cell_type": "code",
   "execution_count": null,
   "metadata": {},
   "outputs": [],
   "source": [
    "agent=Agent(state_size, action_size)"
   ]
  },
  {
   "cell_type": "markdown",
   "metadata": {},
   "source": [
    "Training the model"
   ]
  },
  {
   "cell_type": "code",
   "execution_count": null,
   "metadata": {},
   "outputs": [],
   "source": [
    "reward_lst=[]\n",
    "for episode in range(train_episodes):\n",
    "    state, _ = env.reset()\n",
    "    state_arr=np.zeros(state_size)\n",
    "    state_arr[state] = 1\n",
    "    state= np.reshape(state_arr, [1, state_size])\n",
    "    reward = 0\n",
    "    done = False\n",
    "    for t in range(max_steps):\n",
    "        env.render()\n",
    "        action = agent.action(state)\n",
    "        new_state, reward, done, info, action= env.step(action)\n",
    "        print(new_state)\n",
    "        new_state_arr = np.zeros(state_size)\n",
    "        new_state_arr[new_state] = 1\n",
    "        new_state = np.reshape(new_state_arr, [1, state_size])\n",
    "        agent.add_memory(new_state, reward, done, state, action)\n",
    "        state= new_state\n",
    "\n",
    "        if done:\n",
    "            print(f'Episode: {episode:4}/{train_episodes} and step: {t:4}. Eps: {float(agent.epsilon):.2}, reward {reward}')\n",
    "            break\n",
    "\n",
    "    reward_lst.append(reward)\n",
    "\n",
    "    if len(agent.memory)> batch_size:\n",
    "        agent.replay(batch_size)\n",
    "\n",
    "print(' Train mean % score= ', round(100*np.mean(reward_lst),1))"
   ]
  },
  {
   "cell_type": "code",
   "execution_count": null,
   "metadata": {},
   "outputs": [],
   "source": [
    "test_wins=[]\n",
    "for episode in range(test_episodes):\n",
    "    state, _ = env.reset()\n",
    "    state_arr=np.zeros(state_size)\n",
    "    state_arr[state] = 1\n",
    "    state= np.reshape(state_arr, [1, state_size])\n",
    "    done = False\n",
    "    reward=0\n",
    "    state_lst = []\n",
    "    state_lst.append(state)\n",
    "    print('******* EPISODE ',episode, ' *******')\n",
    "\n",
    "    for step in range(max_steps):\n",
    "        action = agent.pred(state)\n",
    "        new_state, reward, done, info, _ = env.step(action)\n",
    "        new_state_arr = np.zeros(state_size)\n",
    "        new_state_arr[new_state] = 1\n",
    "        new_state = np.reshape(new_state_arr, [1, state_size])\n",
    "        state = new_state\n",
    "        state_lst.append(state)\n",
    "        if done:\n",
    "            print(reward)\n",
    "            env.render()\n",
    "            break\n",
    "\n",
    "    test_wins.append(reward)\n",
    "env.close()\n",
    "\n",
    "print(' Test mean % score= ', int(100*np.mean(test_wins)))"
   ]
  },
  {
   "cell_type": "code",
   "execution_count": null,
   "metadata": {},
   "outputs": [],
   "source": [
    "fig=plt.figure(figsize=(10,12))\n",
    "matplotlib.rcParams.clear()\n",
    "matplotlib.rcParams.update({'font.size': 22})\n",
    "plt.subplot(311)\n",
    "plt.scatter(list(range(len(reward_lst))), reward_lst, s=0.2)\n",
    "plt.title('4x4 Frozen Lake Result(DQN) \\n \\nTrain Score')\n",
    "plt.ylabel('Score')\n",
    "plt.xlabel('Episode')"
   ]
  },
  {
   "cell_type": "code",
   "execution_count": null,
   "metadata": {},
   "outputs": [],
   "source": [
    "plt.subplot(312)\n",
    "plt.scatter(list(range(len(agent.epsilon_lst))), agent.epsilon_lst, s=0.2)\n",
    "plt.title('Epsilon')\n",
    "plt.ylabel('Epsilon')\n",
    "plt.xlabel('Episode')"
   ]
  },
  {
   "cell_type": "code",
   "execution_count": null,
   "metadata": {},
   "outputs": [],
   "source": [
    "plt.subplot(313)\n",
    "plt.scatter(list(range(len(test_wins))), test_wins, s=0.5)\n",
    "plt.title('Test Score')\n",
    "plt.ylabel('Score')\n",
    "plt.xlabel('Episode')\n",
    "plt.ylim((0,1.1))\n",
    "plt.show()"
   ]
  }
 ],
 "metadata": {
  "kernelspec": {
   "display_name": "RVC",
   "language": "python",
   "name": "python3"
  },
  "language_info": {
   "codemirror_mode": {
    "name": "ipython",
    "version": 3
   },
   "file_extension": ".py",
   "mimetype": "text/x-python",
   "name": "python",
   "nbconvert_exporter": "python",
   "pygments_lexer": "ipython3",
   "version": "3.8.17"
  }
 },
 "nbformat": 4,
 "nbformat_minor": 2
}
